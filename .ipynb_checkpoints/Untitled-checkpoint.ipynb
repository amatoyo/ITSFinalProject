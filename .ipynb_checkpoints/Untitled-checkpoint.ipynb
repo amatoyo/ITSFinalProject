{
 "cells": [
  {
   "cell_type": "code",
   "execution_count": 20,
   "id": "5b6d4cab-46d0-4a42-b701-cb7b67357af6",
   "metadata": {},
   "outputs": [
    {
     "name": "stdout",
     "output_type": "stream",
     "text": [
      "   5 Day ADT  7 Day ADT  Saturday Volume  Sunday Volume  AM Peak Volume  \\\n",
      "0  -0.837671  -0.837809        -0.832228      -0.812276       -0.897382   \n",
      "1   0.966970   0.876442         0.635303       0.518040        1.321818   \n",
      "2  -0.423956  -0.395374        -0.242755      -0.379961       -0.478217   \n",
      "3  -0.330040  -0.323424        -0.247448      -0.364408       -0.213637   \n",
      "4   0.935627   0.973758         1.321183       0.750128        1.302494   \n",
      "\n",
      "   Mid Peak Volume  PM Peak Volume  \n",
      "0        -0.879372       -0.881611  \n",
      "1         0.652300        1.083606  \n",
      "2        -0.235736       -0.344498  \n",
      "3        -0.222074       -0.278758  \n",
      "4         1.264058        1.104587  \n"
     ]
    }
   ],
   "source": [
    "import pandas as pd\n",
    "import numpy as np\n",
    "from sklearn.preprocessing import StandardScaler\n",
    "\n",
    "# Step 1: Load the data\n",
    "# Assuming the CSV file is named 'traffic_data.csv'\n",
    "data = pd.read_csv('Data.csv', dtype={'Column_Name': str}, low_memory=False)\n",
    "data = data.dropna(axis=1, how='all')\n",
    "\n",
    "data['Count Start Date'] = pd.to_datetime(data['Count Start Date'], dayfirst=True, errors='coerce')\n",
    "# print (data.info())\n",
    "\n",
    "start_date_filter = '2018-02-09'\n",
    "filtered_data = data[data['Count Start Date'] >= start_date_filter]\n",
    "\n",
    "# Display the first few rows of the dataset\n",
    "# print(filtered_data.head())\n",
    "\n",
    "\n",
    "# # Step 2: Select and normalize traffic volume features\n",
    "# features = [\n",
    "#     '5 Day ADT', '7 Day ADT', 'Saturday Volume', 'Sunday Volume', \n",
    "#     'AM Peak Volume', 'Mid Peak Volume', 'PM Peak Volume', \n",
    "#     'Car', 'LCV', 'MCV', 'HCV-I', 'HCV-II', 'HCV Total'\n",
    "# ]\n",
    "\n",
    "features = [\n",
    "    '5 Day ADT', '7 Day ADT', 'Saturday Volume', 'Sunday Volume', \n",
    "    'AM Peak Volume', 'Mid Peak Volume', 'PM Peak Volume'\n",
    "]\n",
    "\n",
    "# for feature in features:\n",
    "#     # Convert column to string, replace '%' with '', then convert to numeric\n",
    "#     filtered_data[feature] = pd.to_numeric(filtered_data[feature].astype(str).str.replace('%', ''), errors='coerce') / 100\n",
    "\n",
    "# # Check if all features are present in the dataset\n",
    "missing_features = [feature for feature in features if feature not in data.columns]\n",
    "if missing_features:\n",
    "    print(f\"Missing features: {missing_features}\")\n",
    "else:\n",
    "    # Extract the features for normalization\n",
    "    traffic_data = data[features]\n",
    "    \n",
    "    # Initialize the StandardScaler\n",
    "    scaler = StandardScaler()\n",
    "    \n",
    "    # Fit and transform the data\n",
    "    normalized_data = scaler.fit_transform(traffic_data)\n",
    "    \n",
    "    # Convert the normalized data back to a DataFrame\n",
    "    normalized_df = pd.DataFrame(normalized_data, columns=features)\n",
    "    \n",
    "    # Display the first few rows of the normalized data\n",
    "    print(normalized_df.head())\n"
   ]
  },
  {
   "cell_type": "code",
   "execution_count": null,
   "id": "e8f4afae-6ac8-4376-a085-fd4bb11b9db8",
   "metadata": {},
   "outputs": [],
   "source": []
  }
 ],
 "metadata": {
  "kernelspec": {
   "display_name": "Python 3 (ipykernel)",
   "language": "python",
   "name": "python3"
  },
  "language_info": {
   "codemirror_mode": {
    "name": "ipython",
    "version": 3
   },
   "file_extension": ".py",
   "mimetype": "text/x-python",
   "name": "python",
   "nbconvert_exporter": "python",
   "pygments_lexer": "ipython3",
   "version": "3.10.14"
  }
 },
 "nbformat": 4,
 "nbformat_minor": 5
}
